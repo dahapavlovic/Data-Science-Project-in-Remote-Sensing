{
 "cells": [
  {
   "cell_type": "code",
   "execution_count": 40,
   "metadata": {},
   "outputs": [],
   "source": [
    "import pandas as pd"
   ]
  },
  {
   "cell_type": "code",
   "execution_count": 41,
   "metadata": {},
   "outputs": [],
   "source": [
    "csv_file_path = 'time_series_dataset.csv'\n",
    "data = pd.read_csv(csv_file_path)"
   ]
  },
  {
   "cell_type": "code",
   "execution_count": 42,
   "metadata": {},
   "outputs": [
    {
     "name": "stdout",
     "output_type": "stream",
     "text": [
      "<class 'pandas.core.frame.DataFrame'>\n",
      "RangeIndex: 698042 entries, 0 to 698041\n",
      "Data columns (total 4 columns):\n",
      " #   Column              Non-Null Count   Dtype  \n",
      "---  ------              --------------   -----  \n",
      " 0   Polygon_ID          698042 non-null  float64\n",
      " 1   Date                698042 non-null  object \n",
      " 2   Radar_Signal_Value  698042 non-null  float64\n",
      " 3   Crop_ID             698042 non-null  float64\n",
      "dtypes: float64(3), object(1)\n",
      "memory usage: 21.3+ MB\n",
      "None\n",
      "Number of columns: 4\n",
      "Number of rows: 698042\n",
      "Unique Crop_IDs: 7\n",
      "Crop_IDs: [12.  4.  8.  5.  2. 11.  1.]\n"
     ]
    }
   ],
   "source": [
    "# Inspecting the dataset first\n",
    "print(data.info())\n",
    "print(f\"Number of columns: {data.shape[1]}\")\n",
    "print(f\"Number of rows: {data.shape[0]}\")\n",
    "print(f\"Unique Crop_IDs: {data['Crop_ID'].nunique()}\")\n",
    "print(f\"Crop_IDs: {data['Crop_ID'].unique()}\")\n"
   ]
  },
  {
   "cell_type": "code",
   "execution_count": 43,
   "metadata": {},
   "outputs": [
    {
     "name": "stdout",
     "output_type": "stream",
     "text": [
      "        Polygon_ID        Date  Radar_Signal_Value  Crop_ID\n",
      "0              0.0  2019-03-03          -13.656852     12.0\n",
      "1              0.0  2019-03-09          -17.043327     12.0\n",
      "2              0.0  2019-03-15          -15.454884     12.0\n",
      "3              0.0  2019-03-21          -16.207270     12.0\n",
      "4              0.0  2019-03-27          -15.642319     12.0\n",
      "...            ...         ...                 ...      ...\n",
      "698037    232478.0  2019-08-06          -13.296673     11.0\n",
      "698038    232478.0  2019-08-12          -15.239226     11.0\n",
      "698039    232478.0  2019-08-18          -14.421175     11.0\n",
      "698040    232478.0  2019-08-24          -14.417724     11.0\n",
      "698041    232478.0  2019-08-30          -13.326292     11.0\n",
      "\n",
      "[698042 rows x 4 columns]\n"
     ]
    }
   ],
   "source": [
    "print(data)"
   ]
  },
  {
   "cell_type": "code",
   "execution_count": 44,
   "metadata": {},
   "outputs": [],
   "source": [
    "unique_attributes = data[['Polygon_ID', 'Crop_ID']].drop_duplicates()\n",
    "data = data.pivot(index='Polygon_ID', columns='Date', values='Radar_Signal_Value')\n",
    "data = unique_attributes.merge(data, on='Polygon_ID')"
   ]
  },
  {
   "cell_type": "code",
   "execution_count": 45,
   "metadata": {},
   "outputs": [
    {
     "name": "stdout",
     "output_type": "stream",
     "text": [
      "       Polygon_ID  Crop_ID  2019-03-03  2019-03-09  2019-03-15  2019-03-21   \n",
      "0             0.0     12.0  -13.656852  -17.043327  -15.454884  -16.207270  \\\n",
      "1             1.0     12.0  -19.546914  -24.275442  -21.962158  -24.111705   \n",
      "2             2.0     12.0  -21.103257  -23.716814  -21.647624  -24.840138   \n",
      "3             4.0     12.0  -17.206828  -17.390635  -15.597680  -19.269119   \n",
      "4             5.0     12.0  -19.983136  -22.958685  -19.601538  -20.971281   \n",
      "...           ...      ...         ...         ...         ...         ...   \n",
      "22578    232326.0     11.0  -21.847586  -26.245208  -25.064436  -26.711751   \n",
      "22579    232360.0      8.0  -18.072225  -23.590354  -20.464608  -25.275863   \n",
      "22580    232373.0      8.0  -17.785695  -21.382351  -20.441415  -22.594934   \n",
      "22581    232388.0      8.0  -23.070441  -26.299635  -23.186729  -25.644651   \n",
      "22582    232478.0     11.0  -18.634568  -25.303046  -23.790493  -25.567372   \n",
      "\n",
      "       2019-03-27  2019-04-02  2019-04-08  2019-04-14  ...  2019-07-07   \n",
      "0      -15.642319  -15.897347  -14.983721  -16.188477  ...  -14.823028  \\\n",
      "1      -22.397002  -21.978150  -23.979082  -23.326185  ...  -19.407405   \n",
      "2      -22.013082  -22.127619  -21.239035  -21.872386  ...  -19.833316   \n",
      "3      -16.880833  -16.793095  -16.514247  -17.053886  ...  -17.178958   \n",
      "4      -21.185874  -19.724288  -19.181605  -20.775442  ...  -17.567340   \n",
      "...           ...         ...         ...         ...  ...         ...   \n",
      "22578  -24.861806  -26.414068  -25.014852  -25.944172  ...  -16.371555   \n",
      "22579  -23.554639  -25.603633  -24.667671  -25.674726  ...  -16.878016   \n",
      "22580  -18.598700  -22.921420  -21.599575  -21.664392  ...  -16.979157   \n",
      "22581  -24.494387  -25.706843  -23.997622  -25.585725  ...  -14.715232   \n",
      "22582  -23.834007  -24.957680  -24.072064  -25.261168  ...  -14.940333   \n",
      "\n",
      "       2019-07-13  2019-07-19  2019-07-25  2019-07-31  2019-08-06  2019-08-12   \n",
      "0      -12.850578  -14.103257  -15.295265  -12.483722  -14.673626  -12.931794  \\\n",
      "1      -16.342808  -18.911705  -18.717473  -19.236281  -19.546914  -19.898849   \n",
      "2      -15.388477  -17.460355  -19.135199  -17.085255  -18.503257  -18.523908   \n",
      "3      -14.950281  -13.969502  -17.766771  -14.844780  -16.952132  -15.996930   \n",
      "4      -14.942808  -16.775442  -17.546914  -15.778150  -20.243829  -18.236281   \n",
      "...           ...         ...         ...         ...         ...         ...   \n",
      "22578  -13.640095  -14.931868  -15.013358  -14.806195  -13.955067  -14.707431   \n",
      "22579  -13.845421  -16.083640  -16.181779  -15.935419  -14.960387  -14.734422   \n",
      "22580  -14.905221  -16.058267  -16.244465  -15.702856  -15.296416  -15.655038   \n",
      "22581  -13.931994  -15.920939  -14.952444  -15.003151  -15.876408  -17.996844   \n",
      "22582  -13.290119  -14.749775  -14.670478  -14.908593  -13.296673  -15.239226   \n",
      "\n",
      "       2019-08-18  2019-08-24  2019-08-30  \n",
      "0      -13.422821  -14.239465  -13.961022  \n",
      "1      -20.800000  -23.407405  -18.526728  \n",
      "2      -19.502763  -21.079876  -20.132305  \n",
      "3      -18.031220  -17.553190  -13.911111  \n",
      "4      -18.912309  -19.895396  -19.595396  \n",
      "...           ...         ...         ...  \n",
      "22578  -14.088688  -15.400812  -13.820248  \n",
      "22579  -15.979299  -16.744470  -15.174810  \n",
      "22580  -15.336481  -15.687027  -15.185321  \n",
      "22581  -19.004068  -24.014942  -19.269655  \n",
      "22582  -14.421175  -14.417724  -13.326292  \n",
      "\n",
      "[22583 rows x 33 columns]\n"
     ]
    }
   ],
   "source": [
    "print(data)"
   ]
  },
  {
   "cell_type": "code",
   "execution_count": 46,
   "metadata": {},
   "outputs": [
    {
     "data": {
      "text/plain": [
       "Polygon_ID      0\n",
       "Crop_ID         0\n",
       "2019-03-03      7\n",
       "2019-03-09    224\n",
       "2019-03-15      7\n",
       "2019-03-21    224\n",
       "2019-03-27      6\n",
       "2019-04-02    224\n",
       "2019-04-08      4\n",
       "2019-04-14    224\n",
       "2019-04-20      4\n",
       "2019-04-26    224\n",
       "2019-05-02      4\n",
       "2019-05-08    224\n",
       "2019-05-14      6\n",
       "2019-05-20     68\n",
       "2019-05-26      6\n",
       "2019-06-01     68\n",
       "2019-06-07      4\n",
       "2019-06-13     68\n",
       "2019-06-19      4\n",
       "2019-06-25     68\n",
       "2019-07-01      4\n",
       "2019-07-07     68\n",
       "2019-07-13      5\n",
       "2019-07-19     68\n",
       "2019-07-25      4\n",
       "2019-07-31     68\n",
       "2019-08-06      4\n",
       "2019-08-12     67\n",
       "2019-08-18      4\n",
       "2019-08-24     68\n",
       "2019-08-30      3\n",
       "dtype: int64"
      ]
     },
     "execution_count": 46,
     "metadata": {},
     "output_type": "execute_result"
    }
   ],
   "source": [
    "data.isnull().sum()"
   ]
  },
  {
   "cell_type": "code",
   "execution_count": 47,
   "metadata": {},
   "outputs": [
    {
     "data": {
      "text/plain": [
       "False"
      ]
     },
     "execution_count": 47,
     "metadata": {},
     "output_type": "execute_result"
    }
   ],
   "source": [
    "# Deleting rows with missing values\n",
    "# The number of missing entries (224) is small compared to the total rows (22583)\n",
    "data = data.dropna()\n",
    "data.isnull().values.any()"
   ]
  },
  {
   "cell_type": "code",
   "execution_count": 48,
   "metadata": {},
   "outputs": [],
   "source": [
    "output_csv_file_path = 'working_dataset.csv'\n",
    "data.to_csv(output_csv_file_path, index=False)"
   ]
  }
 ],
 "metadata": {
  "kernelspec": {
   "display_name": "Python 3",
   "language": "python",
   "name": "python3"
  },
  "language_info": {
   "codemirror_mode": {
    "name": "ipython",
    "version": 3
   },
   "file_extension": ".py",
   "mimetype": "text/x-python",
   "name": "python",
   "nbconvert_exporter": "python",
   "pygments_lexer": "ipython3",
   "version": "3.11.3"
  }
 },
 "nbformat": 4,
 "nbformat_minor": 2
}
